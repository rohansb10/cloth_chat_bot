{
 "cells": [
  {
   "cell_type": "code",
   "execution_count": 1,
   "id": "221631e4",
   "metadata": {
    "ExecuteTime": {
     "end_time": "2024-04-17T10:49:47.603985Z",
     "start_time": "2024-04-17T10:49:41.890938Z"
    },
    "code_folding": [
     15
    ]
   },
   "outputs": [],
   "source": [
    "import random\n",
    "from sklearn.feature_extraction.text import TfidfVectorizer\n",
    "from sklearn.linear_model import LogisticRegression\n",
    "import nltk\n",
    "from nltk.corpus import stopwords\n",
    "from nltk.tokenize import word_tokenize\n",
    "from nltk.stem import WordNetLemmatizer\n",
    "import warnings\n",
    "warnings.filterwarnings(\"ignore\")\n",
    "\n",
    "# # Download necessary nltk resources\n",
    "# nltk.download('punkt')\n",
    "# nltk.download('wordnet')\n",
    "# nltk.download('stopwords')\n",
    "\n",
    "Path= r'c:\\Users\\Rohan\\Pictures\\rohan\\profile projects\\chatbot\\intents.json'\n",
    "import json\n",
    "intents = json.loads(open(Path).read())\n",
    "\n",
    "# Create the vectorizer and classifier\n",
    "vectorizer = TfidfVectorizer()\n",
    "clf = LogisticRegression(random_state=0, max_iter=10000)\n",
    "\n",
    "# Preprocess the data\n",
    "stop_words = set(stopwords.words('english'))\n",
    "lemmatizer = WordNetLemmatizer()\n",
    "\n",
    "tags = []\n",
    "patterns = []\n",
    "for intent in intents:\n",
    "    for pattern in intent['patterns']:\n",
    "        # Tokenize, remove stopwords, and lemmatize the pattern\n",
    "        tokens = word_tokenize(pattern.lower())\n",
    "        words = [lemmatizer.lemmatize(word) for word in tokens if word.isalpha() and word not in stop_words]\n",
    "        patterns.append(' '.join(words))\n",
    "        tags.append(intent['tag'])\n",
    "\n",
    "# Training the model\n",
    "x = vectorizer.fit_transform(patterns)\n",
    "y = tags\n",
    "clf.fit(x, y)\n",
    "\n",
    "def chatbot(input_text):\n",
    "    input_text = vectorizer.transform([input_text.lower()])\n",
    "    tag = clf.predict(input_text)[0]\n",
    "    for intent in intents:\n",
    "        if intent['tag'] == tag:\n",
    "            response = random.choice(intent['responses'])\n",
    "            return response\n"
   ]
  },
  {
   "cell_type": "code",
   "execution_count": 4,
   "id": "ef088798",
   "metadata": {
    "ExecuteTime": {
     "end_time": "2024-04-17T10:58:27.330460Z",
     "start_time": "2024-04-17T10:58:27.322290Z"
    }
   },
   "outputs": [],
   "source": [
    "from langchain import PromptTemplate, LLMChain, OpenAI\n",
    "from transformers import AutoTokenizer\n",
    "from googletrans import Translator\n",
    "\n",
    "# Load the tokenizer\n",
    "tokenizer = AutoTokenizer.from_pretrained(\"gpt2\")\n",
    "\n",
    "# Define a function to tokenize and truncate the input\n",
    "def tokenize_and_truncate(text, max_length=512):\n",
    "    tokens = tokenizer.encode(text, truncation=True, max_length=max_length)\n",
    "    return tokens\n",
    "\n",
    "# Set up the OpenAI LLM with a custom tokenizer\n",
    "model_name = \"text-davinci-003\"\n",
    "max_tokens = 256\n",
    "temperature = 0.7\n",
    "openai_llm = OpenAI(\n",
    "    model_name=model_name,\n",
    "    max_tokens=max_tokens,\n",
    "    temperature=temperature,\n",
    "    tokenizer=tokenize_and_truncate,\n",
    ")\n",
    "\n",
    "# Set up the Google Translate API\n",
    "translator = Translator()\n",
    "\n",
    "template = \"\"\"\n",
    "You are a helpful and knowledgeable chatbot assistant for a popular clothing store called \"Threads & Trends\". Your goal is to provide excellent customer service by assisting customers with their inquiries related to our clothing products, sizes, styles, trends, and any other relevant information.\n",
    "\n",
    "[...]\n",
    "\n",
    "With this background information in mind, please provide a helpful and informative response to the following customer inquiry:\n",
    "\n",
    "{query}\n",
    "\n",
    "If the customer's inquiry is not directly related to our products or services, you can politely acknowledge their question and suggest that they rephrase their inquiry or provide more context related to our clothing store.\n",
    "\"\"\"\n",
    "\n",
    "prompt_template = PromptTemplate(input_variables=[\"query\"], template=template)\n",
    "\n",
    "# Create the LLMChain\n",
    "llm_chain = LLMChain(prompt=prompt_template, llm=openai_llm)\n",
    "\n",
    "# Define the chatbot function\n",
    "def chatbot1():\n",
    "    print(\"Welcome to the clothes sales chatbot! Type 'exit' to quit.\")\n",
    "    while True:\n",
    "        prompt = input(\"You: \")\n",
    "        if prompt.lower() == \"exit\":\n",
    "            break\n",
    "\n",
    "        # Detect the language of the user's input\n",
    "        detected_lang = translator.detect(prompt).lang\n",
    "\n",
    "        # Translate the user's input to English\n",
    "        prompt_en = translator.translate(prompt, dest='en').text\n",
    "\n",
    "        # Get the response from the LLM\n",
    "        response_en = llm_chain.run(prompt_en)\n",
    "\n",
    "        # Translate the response back to the detected language\n",
    "        response_translated = translator.translate(response_en, dest=detected_lang).text\n",
    "\n",
    "        print(f\"Chatbot ({detected_lang}): {response_translated}\")\n"
   ]
  },
  {
   "cell_type": "code",
   "execution_count": 3,
   "id": "5028c2d8",
   "metadata": {
    "ExecuteTime": {
     "end_time": "2024-04-17T10:54:53.789592Z",
     "start_time": "2024-04-17T10:50:34.113542Z"
    }
   },
   "outputs": [
    {
     "name": "stdout",
     "output_type": "stream",
     "text": [
      "Welcome to our clothing store! Type 'quit' to exit.\n",
      "You: How do I choose the right size?\n",
      "Chatbot: Check out our size guide on our website for assistance in finding the perfect fit. If you need further assistance, feel free to reach out to our customer service team.\n",
      "You:  Hi there! Welcome to our clothing store.\n",
      "Chatbot: Hey! Ready to find some great clothes?\n",
      "You: Track order\n",
      "Chatbot: You can easily track the status of your order by entering your order number on our website or contacting customer service.\n",
      "You:  In-store activit\n",
      "Chatbot: You can find the addresses and details of our retail store locations on our website's store locator.\n",
      "You: Loyalty benefits\n",
      "Chatbot: Yes, we have a loyalty program that rewards you for shopping with us. Earn points for every purchase and redeem them for exclusive discounts, birthday treats, and more. Join our loyalty program today and start earning rewards!\n",
      "You: What kind of clothes do you sell?\n",
      "Chatbot: Hi! Looking for something special?\n",
      "You: Can I buy something?\n",
      "Chatbot: Hi there! Welcome to our clothing store.\n",
      "You: I want to make a purchase.\n",
      "Chatbot: Hello! How can I assist you today?\n",
      "You: How long does shipping take?\n",
      "Chatbot: Shipping times vary depending on your location and chosen shipping method. We offer standard and expedited shipping options. For international orders, shipping times may be longer due to customs processing.\n",
      "You: Do you offer gift cards?\n",
      "Chatbot: Give the gift of choice with our convenient gift cards. Simply select the desired denomination and add it to your cart. It's a thoughtful and versatile gift for any fashion enthusiast.\n",
      "You: I appreciate it\n",
      "Chatbot: No problem, happy to help.\n",
      "You: Thank you\n",
      "Chatbot: No problem, happy to help.\n",
      "You: See you later\n",
      "Chatbot: Take care! Hope to see you again soon.\n",
      "You: quit\n",
      "Goodbye!\n"
     ]
    }
   ],
   "source": [
    "\n",
    "print(\"Welcome to our clothing store! Type 'quit' to exit.\")\n",
    "while True:\n",
    "    user_input = input(\"You: \")\n",
    "    if user_input.lower() == 'quit':\n",
    "        print(\"Goodbye!\")\n",
    "        break\n",
    "    else:\n",
    "        response = chatbot(user_input)\n",
    "        print(\"Chatbot:\", response)\n",
    "    else:\n",
    "        response = chatbot1(user_input)\n",
    "        print(\"Chatbot:\", response)"
   ]
  },
  {
   "cell_type": "code",
   "execution_count": null,
   "id": "0037e862",
   "metadata": {},
   "outputs": [],
   "source": []
  }
 ],
 "metadata": {
  "kernelspec": {
   "display_name": "Python 3 (ipykernel)",
   "language": "python",
   "name": "python3"
  },
  "language_info": {
   "codemirror_mode": {
    "name": "ipython",
    "version": 3
   },
   "file_extension": ".py",
   "mimetype": "text/x-python",
   "name": "python",
   "nbconvert_exporter": "python",
   "pygments_lexer": "ipython3",
   "version": "3.12.1"
  },
  "toc": {
   "base_numbering": 1,
   "nav_menu": {},
   "number_sections": true,
   "sideBar": true,
   "skip_h1_title": false,
   "title_cell": "Table of Contents",
   "title_sidebar": "Contents",
   "toc_cell": false,
   "toc_position": {},
   "toc_section_display": true,
   "toc_window_display": false
  },
  "varInspector": {
   "cols": {
    "lenName": 16,
    "lenType": 16,
    "lenVar": 40
   },
   "kernels_config": {
    "python": {
     "delete_cmd_postfix": "",
     "delete_cmd_prefix": "del ",
     "library": "var_list.py",
     "varRefreshCmd": "print(var_dic_list())"
    },
    "r": {
     "delete_cmd_postfix": ") ",
     "delete_cmd_prefix": "rm(",
     "library": "var_list.r",
     "varRefreshCmd": "cat(var_dic_list()) "
    }
   },
   "types_to_exclude": [
    "module",
    "function",
    "builtin_function_or_method",
    "instance",
    "_Feature"
   ],
   "window_display": false
  }
 },
 "nbformat": 4,
 "nbformat_minor": 5
}
